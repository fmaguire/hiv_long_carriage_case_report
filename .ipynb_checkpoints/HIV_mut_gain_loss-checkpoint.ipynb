{
 "cells": [
  {
   "cell_type": "code",
   "execution_count": 1,
   "metadata": {},
   "outputs": [],
   "source": [
    "import pandas as pd\n",
    "from pathlib import Path\n",
    "import matplotlib.pyplot as plt\n",
    "import matplotlib.dates as mdates\n",
    "import re\n",
    "import seaborn as sns\n",
    "from tqdm.notebook import tqdm\n",
    "import vcf\n",
    "sns.set_style('whitegrid')\n",
    "sns.set_palette('colorblind')\n",
    "from collections import Counter"
   ]
  },
  {
   "cell_type": "code",
   "execution_count": 2,
   "metadata": {},
   "outputs": [],
   "source": [
    "def parse_vcf_snpeff_record(record, sample):\n",
    "    parsed_records = []\n",
    "    for ix, alt in enumerate(record.ALT):\n",
    "        parsed_alt = {}\n",
    "\n",
    "        # get var only for that alt\n",
    "        var_list = [ann for ann in record.INFO['ANN'] if ann.split('|')[0] == alt]\n",
    "        #remove up/downstream/intergenic mutations\n",
    "        var_list = [ann for ann in var_list if ann.split('|')[1] not in ['upstream_gene_variant', \n",
    "                                                                                 'downstream_gene_variant']]\n",
    "        if len(var_list) > 1:\n",
    "            print(\"var_list has multiple changes\", var_list)\n",
    "            var_list = var_list[0]\n",
    "        elif len(var_list) == 0:\n",
    "            print(\"var_list has no annotation\", var_list)\n",
    "            assert False\n",
    "        else:\n",
    "            ann = var_list[0].split('|')\n",
    "            parsed_alt['Mutation Effect'] = ann[1]\n",
    "            parsed_alt['Mutation Gene'] = ann[3]\n",
    "            parsed_alt['Nucleotide Mutation'] = ann[9]\n",
    "        \n",
    "            if ann[1] == 'intergenic_region':\n",
    "                parsed_alt['Protein Mutation'] = f\"No Protein Effect ({ann[9]})\"\n",
    "            elif ann[1] == 'synonymous_variant':\n",
    "                parsed_alt['Protein Mutation'] = ann[3] + \": synonymous \" + ann[10]\n",
    "            else:\n",
    "                parsed_alt['Protein Mutation'] = ann[3] + \":\" + ann[10]\n",
    "\n",
    "        parsed_alt['Sample'] = sample\n",
    "        parsed_alt['Genome Position'] = record.POS\n",
    "        parsed_alt['Allele Read Count'] = record.INFO['AO'][ix]\n",
    "        parsed_alt['Total Read Count'] = record.INFO['DP']\n",
    "        parsed_alt['% Reads Supporting Allele'] = record.INFO['VAF'][ix] * 100\n",
    "    \n",
    "    parsed_records.append(parsed_alt)\n",
    "    return parsed_records\n",
    "\n",
    "\n",
    "parsed_records = []\n",
    "for vcf_fp in Path('variants/').glob(\"*.vcf\"):\n",
    "    sample = vcf_fp.name.rstrip('.ann.vcf')\n",
    "    with open(vcf_fp) as fh:\n",
    "        for record in vcf.Reader(fh):\n",
    "            parsed_records.extend(parse_vcf_snpeff_record(record, sample))\n",
    "            \n",
    "            \n",
    "variants = pd.DataFrame(parsed_records)\n",
    "variants = variants.sort_values(['Sample', 'Genome Position'], ascending=[False, True])\n",
    "variants['Sample'] = pd.to_datetime(variants['Sample'].str.lstrip('JD-'),dayfirst=True)"
   ]
  },
  {
   "cell_type": "markdown",
   "metadata": {},
   "source": [
    "# Variant Changes Over Time"
   ]
  },
  {
   "cell_type": "code",
   "execution_count": 3,
   "metadata": {},
   "outputs": [],
   "source": [
    "variant_sets = variants.groupby('Sample')['Nucleotide Mutation'].agg(Nucleotide_Mutation_Set=set).reset_index()\n",
    "variant_sets = variant_sets.sort_values('Sample')\n",
    "\n",
    "previous_mutation_set = set()\n",
    "variant_set_gain_loss = []\n",
    "for ix, sample in variant_sets.iterrows():\n",
    "    \n",
    "    if len(previous_mutation_set) == 0:\n",
    "        sample['Mutations Gained'] = set()\n",
    "        sample['Mutations Lost'] = set()\n",
    "        previous_mutation_set = sample['Nucleotide_Mutation_Set']\n",
    "    else:\n",
    "        sample['Mutations Gained'] = sample['Nucleotide_Mutation_Set'] - previous_mutation_set\n",
    "        sample['Mutations Lost'] = previous_mutation_set - sample['Nucleotide_Mutation_Set']\n",
    "        previous_mutation_set = sample['Nucleotide_Mutation_Set']\n",
    "\n",
    "        \n",
    "    variant_set_gain_loss.append(sample)  \n",
    "          \n",
    "variant_set_gain_loss = pd.DataFrame(variant_set_gain_loss)\n",
    "\n",
    "variant_set_gain_loss['Mutation Count'] = variant_set_gain_loss['Nucleotide_Mutation_Set'].apply(len)\n",
    "variant_set_gain_loss['Mutation Gained Count'] = variant_set_gain_loss['Mutations Gained'].apply(len)\n",
    "variant_set_gain_loss['Mutation Lost Count'] = variant_set_gain_loss['Mutations Lost'].apply(len)"
   ]
  },
  {
   "cell_type": "code",
   "execution_count": null,
   "metadata": {},
   "outputs": [],
   "source": [
    "variant_set_melt = pd.melt(variant_set_gain_loss, id_vars=['Sample'], \n",
    "                            value_vars=['Mutation Count', 'Mutation Gained Count', 'Mutation Lost Count'],\n",
    "                            var_name='Mutation Category', value_name='Mutations')\n",
    "variant_set_melt['Mutation Category'] = variant_set_melt['Mutation Category'].replace({'Mutation Count': 'Total', \n",
    "                                                                     'Mutation Gained Count': 'Gained',\n",
    "                                                                     'Mutation Lost Count': 'Lost'})\n",
    "sns.lineplot(data = variant_set_melt, x='Sample', y='Mutations', hue='Mutation Category')\n",
    "plt.title('Mutation Gain-Loss Over Time')\n",
    "plt.savefig('figures/mutation_gain_loss_counts.png', dpi=300, bbox_inches='tight', facecolor='white', transparent=False)"
   ]
  },
  {
   "cell_type": "code",
   "execution_count": null,
   "metadata": {},
   "outputs": [],
   "source": [
    "def plot_allele_pres_absence(variants_subset, title, savepath, all_mutations=False):\n",
    "\n",
    "    coverage_thresold = 50\n",
    "    \n",
    "    variant_order = variants_subset.sort_values(\"Genome Position\")['Protein Mutation'].unique()\n",
    "    sample_order = variants_subset['Sample'].sort_values().unique()\n",
    "    variant_presence_absence = pd.crosstab(variants_subset['Sample'], variants_subset['Protein Mutation'])\n",
    "    variant_presence_absence = variant_presence_absence.loc[sample_order, variant_order].T\n",
    "\n",
    "    variant_percentage_alleles = variants_subset[variants_subset['Protein Mutation'].isin(variant_presence_absence.index)]\n",
    "    variant_percentage_alleles = variant_percentage_alleles.pivot('Sample', 'Protein Mutation', '% Reads Supporting Allele').fillna(0)\n",
    "    variant_order = [x for x in variants_subset.sort_values('Genome Position')['Protein Mutation'].unique() if x in variant_percentage_alleles.columns]\n",
    "    variant_percentage_alleles = variant_percentage_alleles.loc[sample_order, variant_order].T\n",
    "\n",
    "    \n",
    "    # drop any all >99% \n",
    "    if not all_mutations:\n",
    "        all_high_coverage_variants = [var for var in variant_percentage_alleles.T if (variant_percentage_alleles.T[var] > 95).all() ]\n",
    "        variant_percentage_alleles = variant_percentage_alleles.drop(all_high_coverage_variants)\n",
    "\n",
    "    # low coverage mutations (possible dropout)\n",
    "    low_coverage = variants_subset[variants_subset['Allele Read Count'] < coverage_thresold]['Protein Mutation'].unique()\n",
    "                            \n",
    "    #variant_percentage_alleles = variant_percentage_alleles.rename(index=possible_dropout)\n",
    "\n",
    "    #return variant_percentage_alleles\n",
    "    fig, ax = plt.subplots(figsize=(6,12))\n",
    "    \n",
    "    ax.set_title(title)\n",
    "    sns.heatmap(variant_percentage_alleles, vmin=0, vmax=100, linewidths=.1, ax=ax, xticklabels=True, cmap=\"mako_r\", yticklabels=True,\n",
    "                cbar_kws={'label': '% Reads Supporting Allele'})\n",
    "    ax.set_ylabel(f\"Protein Mutation\\n(Any Sample <{coverage_thresold}X Coverage in Red)\")\n",
    "    ax.set_xlabel(f\"Sample Dates\")\n",
    "\n",
    "    # colour OG and low coverage labels\n",
    "    for label in ax.get_yticklabels():\n",
    "        if label.get_text() in low_coverage:\n",
    "            label.set_color('red')\n",
    "            \n",
    "     # colour OG and low coverage labels\n",
    "    for label in ax.get_xticklabels():\n",
    "        if \"OG\" in label.get_text():\n",
    "            label.set_fontweight('bold')\n",
    "    #return label\n",
    "    #return fig, ax\n",
    "    plt.savefig(savepath, dpi=300, bbox_inches='tight', facecolor='white', transparent=False)\n",
    "    return variant_percentage_alleles"
   ]
  },
  {
   "cell_type": "code",
   "execution_count": null,
   "metadata": {},
   "outputs": [],
   "source": [
    "variants['Sample'] = variants['Sample'].dt.strftime(\"%Y-%m-%d\")\n",
    "variant_percentage_alleles = plot_allele_pres_absence(variants, 'Variants Over Time', \"figures/mutation_changes_unique_read_percentage_all.png\", all_mutations=True)"
   ]
  },
  {
   "cell_type": "code",
   "execution_count": null,
   "metadata": {},
   "outputs": [],
   "source": [
    "variants.to_csv('table/summary_of_variants.tsv', sep='\\t', index=False)"
   ]
  },
  {
   "cell_type": "markdown",
   "metadata": {},
   "source": [
    "# Calculate Ka/Ks\n",
    "\n",
    "Number of nonsynonymous substitutions per non-synonymous site (Ka), in a given period of time, to the number of synonymous substitutions per synonymous site"
   ]
  },
  {
   "cell_type": "code",
   "execution_count": null,
   "metadata": {},
   "outputs": [],
   "source": [
    "def calculate_ka_ks(variants, fig_name, plot=True):\n",
    "    variants['Mutation Type'] = variants['Mutation Effect'].replace({'intergenic_region': 'Synonymous Variant',\n",
    "                                                                     'synonymous_variant': 'Synonymous Variant',\n",
    "                                                                     'missense_variant': 'Non-Synonymous Variant',\n",
    "                                                                     'conservative_inframe_deletion': 'Non-Synonymous Variant',\n",
    "                                                                     'disruptive_inframe_deletion': 'Non-Synonymous Variant',\n",
    "                                                                      'stop_gained': 'Non-Synonymous Variant'})\n",
    "\n",
    "    ka_ks = variants.groupby('Sample')['Mutation Type'].value_counts().reset_index(name='Mutations')\n",
    "    #sns.lineplot(data = ka_ks, y='Mutations', x='Sample Date', hue='Mutation Type')\n",
    "    ka_ks = ka_ks.pivot('Sample', 'Mutation Type', 'Mutations')\n",
    "    ka_ks['Ka/Ks'] = ka_ks['Non-Synonymous Variant'] / ka_ks['Synonymous Variant']\n",
    "    ka_ks = ka_ks.reset_index()\n",
    "    if plot:\n",
    "        sns.lineplot(data = ka_ks, x='Sample', y='Ka/Ks')\n",
    "        plt.ylim(-3,3)\n",
    "        plt.title('Genome-wide Ka/Ks')\n",
    "        plt.savefig(fig_name, dpi=300, bbox_inches='tight', facecolor='white', transparent=False)\n",
    "    return ka_ks\n",
    "\n",
    "\n",
    "variants['Sample'] = pd.to_datetime(variants['Sample'])\n",
    "\n",
    "ka_ks = calculate_ka_ks(variants, 'figures/ka_ks_plot.png')\n",
    "ka_ks.to_csv('table/ka_ks.tsv', sep='\\t', index=False)"
   ]
  },
  {
   "cell_type": "code",
   "execution_count": null,
   "metadata": {},
   "outputs": [],
   "source": [
    "ka_ks"
   ]
  },
  {
   "cell_type": "code",
   "execution_count": null,
   "metadata": {},
   "outputs": [],
   "source": [
    "ls variants/"
   ]
  },
  {
   "cell_type": "code",
   "execution_count": null,
   "metadata": {},
   "outputs": [],
   "source": []
  }
 ],
 "metadata": {
  "kernelspec": {
   "display_name": "Python 3",
   "language": "python",
   "name": "python3"
  },
  "language_info": {
   "codemirror_mode": {
    "name": "ipython",
    "version": 3
   },
   "file_extension": ".py",
   "mimetype": "text/x-python",
   "name": "python",
   "nbconvert_exporter": "python",
   "pygments_lexer": "ipython3",
   "version": "3.7.10"
  }
 },
 "nbformat": 4,
 "nbformat_minor": 2
}
